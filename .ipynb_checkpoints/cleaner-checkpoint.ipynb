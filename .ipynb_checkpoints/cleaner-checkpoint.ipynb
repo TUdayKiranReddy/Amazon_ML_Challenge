{
 "cells": [
  {
   "cell_type": "code",
   "execution_count": 28,
   "id": "a28a1435",
   "metadata": {},
   "outputs": [
    {
     "name": "stderr",
     "output_type": "stream",
     "text": [
      "[nltk_data] Downloading package stopwords to\n",
      "[nltk_data]     /home/solomon/nltk_data...\n",
      "[nltk_data]   Unzipping corpora/stopwords.zip.\n"
     ]
    },
    {
     "data": {
      "text/plain": [
       "True"
      ]
     },
     "execution_count": 28,
     "metadata": {},
     "output_type": "execute_result"
    }
   ],
   "source": [
    "import numpy as np\n",
    "import pandas as pd\n",
    "import matplotlib.pyplot as plt\n",
    "from bs4 import BeautifulSoup\n",
    "import nltk\n",
    "from nltk.corpus import stopwords\n",
    "import csv \n",
    "import re\n",
    "\n",
    "%matplotlib inline\n",
    "\n",
    "nltk.download('stopwords')"
   ]
  },
  {
   "cell_type": "code",
   "execution_count": 4,
   "id": "16b72ccb",
   "metadata": {},
   "outputs": [],
   "source": [
    "train_data = pd.read_csv(\"/home/solomon/DataSet/dataset52a7b21/dataset/train.csv\", escapechar = \"\\\\\", quoting = csv.QUOTE_NONE)\n",
    "test_data = pd.read_csv(\"/home/solomon/DataSet/dataset52a7b21/dataset/test.csv\", escapechar = \"\\\\\", quoting = csv.QUOTE_NONE)"
   ]
  },
  {
   "cell_type": "code",
   "execution_count": 5,
   "id": "a455f0c9",
   "metadata": {},
   "outputs": [
    {
     "name": "stdout",
     "output_type": "stream",
     "text": [
      "<class 'pandas.core.frame.DataFrame'>\n",
      "RangeIndex: 2903024 entries, 0 to 2903023\n",
      "Data columns (total 5 columns):\n",
      " #   Column          Dtype \n",
      "---  ------          ----- \n",
      " 0   TITLE           object\n",
      " 1   DESCRIPTION     object\n",
      " 2   BULLET_POINTS   object\n",
      " 3   BRAND           object\n",
      " 4   BROWSE_NODE_ID  int64 \n",
      "dtypes: int64(1), object(4)\n",
      "memory usage: 110.7+ MB\n"
     ]
    }
   ],
   "source": [
    "train_data.info()"
   ]
  },
  {
   "cell_type": "code",
   "execution_count": 6,
   "id": "c4185059",
   "metadata": {},
   "outputs": [
    {
     "name": "stdout",
     "output_type": "stream",
     "text": [
      "<class 'pandas.core.frame.DataFrame'>\n",
      "RangeIndex: 110775 entries, 0 to 110774\n",
      "Data columns (total 5 columns):\n",
      " #   Column         Non-Null Count   Dtype \n",
      "---  ------         --------------   ----- \n",
      " 0   PRODUCT_ID     110775 non-null  int64 \n",
      " 1   TITLE          110768 non-null  object\n",
      " 2   DESCRIPTION    100306 non-null  object\n",
      " 3   BULLET_POINTS  103989 non-null  object\n",
      " 4   BRAND          108345 non-null  object\n",
      "dtypes: int64(1), object(4)\n",
      "memory usage: 4.2+ MB\n"
     ]
    }
   ],
   "source": [
    "test_data.info()"
   ]
  },
  {
   "cell_type": "markdown",
   "id": "a71df89a",
   "metadata": {},
   "source": [
    "## Training data cleaning"
   ]
  },
  {
   "cell_type": "code",
   "execution_count": null,
   "id": "f4447791",
   "metadata": {},
   "outputs": [
    {
     "name": "stderr",
     "output_type": "stream",
     "text": [
      "/usr/local/lib/python3.8/dist-packages/bs4/__init__.py:417: MarkupResemblesLocatorWarning: \"https://www.dropbox.com/s/yhp6c1xsck0x34a/3%20%2822%29.jpg?dl=0\" looks like a URL. Beautiful Soup is not an HTTP client. You should probably use an HTTP client like requests to get the document behind the URL, and feed that document to Beautiful Soup.\n",
      "  warnings.warn(\n",
      "/usr/local/lib/python3.8/dist-packages/bs4/__init__.py:417: MarkupResemblesLocatorWarning: \"https://www.dropbox.com/s/29weok72413zubl/Purple%20%283%29.jpg?dl=0\" looks like a URL. Beautiful Soup is not an HTTP client. You should probably use an HTTP client like requests to get the document behind the URL, and feed that document to Beautiful Soup.\n",
      "  warnings.warn(\n",
      "/usr/local/lib/python3.8/dist-packages/bs4/__init__.py:417: MarkupResemblesLocatorWarning: \"https://Images-na.SSL-Images-Amazon.com/images/I/41LH4pXAe6L_SX1000.jpg\" looks like a URL. Beautiful Soup is not an HTTP client. You should probably use an HTTP client like requests to get the document behind the URL, and feed that document to Beautiful Soup.\n",
      "  warnings.warn(\n"
     ]
    }
   ],
   "source": [
    "REPLACE_BY_SPACE_RE = re.compile('[/(){}\\[\\]\\|@,;]')\n",
    "BAD_SYMBOLS_RE = re.compile('[^0-9a-z #+_]')\n",
    "STOPWORDS = set(stopwords.words('english'))\n",
    "\n",
    "def clean_text(text):\n",
    "    \"\"\"\n",
    "        text: a string\n",
    "        \n",
    "        return: modified initial string\n",
    "    \"\"\"\n",
    "    \n",
    "    if(text!=text):\n",
    "        return \"\"\n",
    "    text = BeautifulSoup(text, \"lxml\").text # HTML decoding\n",
    "    text = text.lower() # lowercase text\n",
    "    text = REPLACE_BY_SPACE_RE.sub(' ', text) # replace REPLACE_BY_SPACE_RE symbols by space in text\n",
    "    text = BAD_SYMBOLS_RE.sub('', text) # delete symbols which are in BAD_SYMBOLS_RE from text\n",
    "    text = ' '.join(word for word in text.split() if word not in STOPWORDS) # delete stopwors from text\n",
    "    return text\n",
    "\n",
    "clean_train_data = dict()\n",
    "clean_train_data['TITLE'] = train_data['TITLE'].apply(clean_text)\n",
    "clean_train_data['BULLET_POINTS'] = train_data['BULLET_POINTS'].apply(clean_text)\n",
    "clean_train_data['BRAND'] = train_data['BRAND'].apply(clean_text)\n",
    "clean_train_data['TITLE'] = train_data['TITLE'].apply(clean_text)\n",
    "clean_train_data['BROWSE_NODE_ID'] = train_data['BROWSE_NODE_ID']"
   ]
  },
  {
   "cell_type": "code",
   "execution_count": 39,
   "id": "e8aa62af",
   "metadata": {},
   "outputs": [
    {
     "data": {
      "text/plain": [
       "{'TITLE': 0                       pete cat bedtime blues doll 145 inch\n",
       " 1              new yorker nyhm014 refrigerator magnet 2 x 35\n",
       " 2          ultimate selfsufficiency handbook complete gui...\n",
       " 3             amway nutrilite kids chewable iron tablets 100\n",
       " 4          teacher planner company a4 6 lesson academic t...\n",
       "                                  ...                        \n",
       " 2903019    premium aviator sunglasses hd polarized bright...\n",
       " 2903020    social distance stickers set 5 sticker slip re...\n",
       " 2903021    torrto face shield pack 5 adjustable elastic s...\n",
       " 2903022    typec 35 mm oppo r17 pro typec 35 mm audio jac...\n",
       " 2903023                            kng orange polo tshirt 38\n",
       " Name: TITLE, Length: 2903024, dtype: object,\n",
       " 'BULLET_POINTS': 0          pete cat bedtime blues plush doll based popula...\n",
       " 1          cat tea cup new yorker cover artist gurbuz dog...\n",
       " 2                                        skyhorse publishing\n",
       " 3          nutrilite kids chewable iron tablets quantity ...\n",
       " 4                                                           \n",
       "                                  ...                        \n",
       " 2903019    frame size lens height 56mm lens width 58 mm n...\n",
       " 2903020    covid19 safety sticker set 5 maintain crowd co...\n",
       " 2903021    350 microns pack 5 pcs complete face protectio...\n",
       " 2903022    indian connectors made indian sockets wall cha...\n",
       " 2903023                                                     \n",
       " Name: BULLET_POINTS, Length: 2903024, dtype: object,\n",
       " 'BRAND': 0          merrymakers\n",
       " 1           new yorker\n",
       " 2               imusti\n",
       " 3                amway\n",
       " 4                     \n",
       "               ...     \n",
       " 2903019        generic\n",
       " 2903020        generic\n",
       " 2903021         torrto\n",
       " 2903022       shopbell\n",
       " 2903023            kng\n",
       " Name: BRAND, Length: 2903024, dtype: object,\n",
       " 'BROWSE_NODE_ID': 0                0\n",
       " 1                1\n",
       " 2                2\n",
       " 3                3\n",
       " 4                4\n",
       "             ...   \n",
       " 2903019       1040\n",
       " 2903020      15199\n",
       " 2903021    1044933\n",
       " 2903022      14790\n",
       " 2903023       1213\n",
       " Name: BROWSE_NODE_ID, Length: 2903024, dtype: int64}"
      ]
     },
     "execution_count": 39,
     "metadata": {},
     "output_type": "execute_result"
    }
   ],
   "source": [
    "clean_train_data_df = pd.DataFrame(clean_train_data)\n",
    "clean_train_data_df.to_csv(\"/home/solomon/DataSet/dataset52a7b21/dataset/clean_train.csv\")"
   ]
  },
  {
   "cell_type": "code",
   "execution_count": null,
   "id": "efb7112f",
   "metadata": {},
   "outputs": [],
   "source": []
  }
 ],
 "metadata": {
  "kernelspec": {
   "display_name": "Python 3",
   "language": "python",
   "name": "python3"
  },
  "language_info": {
   "codemirror_mode": {
    "name": "ipython",
    "version": 3
   },
   "file_extension": ".py",
   "mimetype": "text/x-python",
   "name": "python",
   "nbconvert_exporter": "python",
   "pygments_lexer": "ipython3",
   "version": "3.8.10"
  }
 },
 "nbformat": 4,
 "nbformat_minor": 5
}
